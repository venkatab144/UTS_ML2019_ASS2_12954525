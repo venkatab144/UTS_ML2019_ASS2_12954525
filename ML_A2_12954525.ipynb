{
  "nbformat": 4,
  "nbformat_minor": 0,
  "metadata": {
    "colab": {
      "name": "ML_A2_12954525.ipynb",
      "provenance": [],
      "collapsed_sections": [],
      "include_colab_link": true
    },
    "kernelspec": {
      "name": "python3",
      "display_name": "Python 3"
    }
  },
  "cells": [
    {
      "cell_type": "markdown",
      "metadata": {
        "id": "view-in-github",
        "colab_type": "text"
      },
      "source": [
        "<a href=\"https://colab.research.google.com/github/venkatab144/UTS_ML2019_ASS2_12954525/blob/master/ML_A2_12954525.ipynb\" target=\"_parent\"><img src=\"https://colab.research.google.com/assets/colab-badge.svg\" alt=\"Open In Colab\"/></a>"
      ]
    },
    {
      "cell_type": "markdown",
      "metadata": {
        "id": "a3-YErxNIDGZ",
        "colab_type": "text"
      },
      "source": [
        "# Introduction"
      ]
    },
    {
      "cell_type": "markdown",
      "metadata": {
        "id": "vq94NboSIJr-",
        "colab_type": "text"
      },
      "source": [
        "Discuss the Algorithm; Define Input/Output W-100"
      ]
    },
    {
      "cell_type": "markdown",
      "metadata": {
        "id": "9-65v_S-IKLV",
        "colab_type": "text"
      },
      "source": [
        "# Exploration"
      ]
    },
    {
      "cell_type": "markdown",
      "metadata": {
        "id": "seVmKya0IKWt",
        "colab_type": "text"
      },
      "source": [
        "Identify Challenges;\n",
        "Design Data Structures/Plan Data Models and Tests\n",
        "W-300"
      ]
    },
    {
      "cell_type": "markdown",
      "metadata": {
        "id": "2NDaID-HIKkf",
        "colab_type": "text"
      },
      "source": [
        "# Methodology"
      ]
    },
    {
      "cell_type": "markdown",
      "metadata": {
        "id": "dYwFnR8aIKuF",
        "colab_type": "text"
      },
      "source": [
        "Implement Algorithms;\n",
        "Build and Train Data Models\n",
        "W-100 (comments not included)"
      ]
    },
    {
      "cell_type": "markdown",
      "metadata": {
        "id": "X2dqmJW0IK37",
        "colab_type": "text"
      },
      "source": [
        "# Evaluation"
      ]
    },
    {
      "cell_type": "markdown",
      "metadata": {
        "id": "WSAHHHUUILBr",
        "colab_type": "text"
      },
      "source": [
        "Report Execution on Data;\n",
        "Perform and Report Testing;\n",
        "Perform Efficiency Analysis;\n",
        "Do Possible Compartive Study;\n",
        "W-200;"
      ]
    },
    {
      "cell_type": "markdown",
      "metadata": {
        "id": "r6Uggn3RILPF",
        "colab_type": "text"
      },
      "source": [
        "# Conclusion"
      ]
    },
    {
      "cell_type": "markdown",
      "metadata": {
        "id": "XGAUGKzVILaa",
        "colab_type": "text"
      },
      "source": [
        "Discuss Reflections;\n",
        "Propose Possible Improvements\n",
        "W-100"
      ]
    },
    {
      "cell_type": "markdown",
      "metadata": {
        "id": "WFbkin1_ILlg",
        "colab_type": "text"
      },
      "source": [
        "# Ethical"
      ]
    },
    {
      "cell_type": "markdown",
      "metadata": {
        "id": "C-m3q4jfILvx",
        "colab_type": "text"
      },
      "source": [
        "Discuss the social/ethical aspect of the potential application of the algorithm. You can adopt one or more ethical models, such as the utilitarian approach or the Kantian duty-based approach. Should anticipate the potential misuses of the technique."
      ]
    },
    {
      "cell_type": "markdown",
      "metadata": {
        "id": "bwSk3fU8IL8n",
        "colab_type": "text"
      },
      "source": [
        "# Video Pitch"
      ]
    },
    {
      "cell_type": "markdown",
      "metadata": {
        "id": "zp99JAoFIMGR",
        "colab_type": "text"
      },
      "source": [
        "Highlights Challenges and Effort"
      ]
    }
  ]
}